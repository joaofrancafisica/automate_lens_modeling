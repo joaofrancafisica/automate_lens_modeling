{
 "cells": [
  {
   "cell_type": "code",
   "execution_count": 1,
   "id": "77714280-f433-4a3f-af97-b7a8fcd06720",
   "metadata": {},
   "outputs": [],
   "source": [
    "import pandas as pd\n",
    "import numpy as np\n",
    "import matplotlib.pyplot as plt\n",
    "import utils\n",
    "from ipywidgets import *\n",
    "import seaborn as sns\n",
    "import autolens as al\n",
    "from astropy.io import fits\n",
    "\n",
    "sns.set_theme()\n",
    "#sns.set(font_scale=1.3)\n",
    "\n",
    "%matplotlib inline"
   ]
  },
  {
   "cell_type": "code",
   "execution_count": 2,
   "id": "8958444d-7ecf-476e-8ff0-c1c290a87d15",
   "metadata": {},
   "outputs": [
    {
     "data": {
      "text/html": [
       "<div>\n",
       "<style scoped>\n",
       "    .dataframe tbody tr th:only-of-type {\n",
       "        vertical-align: middle;\n",
       "    }\n",
       "\n",
       "    .dataframe tbody tr th {\n",
       "        vertical-align: top;\n",
       "    }\n",
       "\n",
       "    .dataframe thead th {\n",
       "        text-align: right;\n",
       "    }\n",
       "</style>\n",
       "<table border=\"1\" class=\"dataframe\">\n",
       "  <thead>\n",
       "    <tr style=\"text-align: right;\">\n",
       "      <th></th>\n",
       "      <th>OBJID</th>\n",
       "      <th>x0</th>\n",
       "      <th>y0</th>\n",
       "      <th>PA</th>\n",
       "      <th>ell</th>\n",
       "      <th>n</th>\n",
       "      <th>I_e</th>\n",
       "      <th>r_e</th>\n",
       "      <th>chiquad_dof</th>\n",
       "    </tr>\n",
       "  </thead>\n",
       "  <tbody>\n",
       "    <tr>\n",
       "      <th>0</th>\n",
       "      <td>1502</td>\n",
       "      <td>50.508234</td>\n",
       "      <td>50.505049</td>\n",
       "      <td>54.757462</td>\n",
       "      <td>0.0</td>\n",
       "      <td>2.396337</td>\n",
       "      <td>0.768990</td>\n",
       "      <td>31.362876</td>\n",
       "      <td>0.006694</td>\n",
       "    </tr>\n",
       "    <tr>\n",
       "      <th>1</th>\n",
       "      <td>2587</td>\n",
       "      <td>50.556978</td>\n",
       "      <td>50.598924</td>\n",
       "      <td>0.000000</td>\n",
       "      <td>0.0</td>\n",
       "      <td>2.192644</td>\n",
       "      <td>1.094024</td>\n",
       "      <td>23.348711</td>\n",
       "      <td>0.007154</td>\n",
       "    </tr>\n",
       "    <tr>\n",
       "      <th>2</th>\n",
       "      <td>2654</td>\n",
       "      <td>49.924076</td>\n",
       "      <td>50.161022</td>\n",
       "      <td>97.861275</td>\n",
       "      <td>0.0</td>\n",
       "      <td>0.500000</td>\n",
       "      <td>3.178116</td>\n",
       "      <td>24.715249</td>\n",
       "      <td>0.128034</td>\n",
       "    </tr>\n",
       "    <tr>\n",
       "      <th>3</th>\n",
       "      <td>1056</td>\n",
       "      <td>50.475000</td>\n",
       "      <td>50.575000</td>\n",
       "      <td>86.088558</td>\n",
       "      <td>0.0</td>\n",
       "      <td>4.000000</td>\n",
       "      <td>3.331370</td>\n",
       "      <td>34.564254</td>\n",
       "      <td>1.692924</td>\n",
       "    </tr>\n",
       "    <tr>\n",
       "      <th>4</th>\n",
       "      <td>706</td>\n",
       "      <td>49.836355</td>\n",
       "      <td>49.850612</td>\n",
       "      <td>111.178416</td>\n",
       "      <td>0.0</td>\n",
       "      <td>1.331766</td>\n",
       "      <td>-2.884030</td>\n",
       "      <td>1.000000</td>\n",
       "      <td>0.045473</td>\n",
       "    </tr>\n",
       "  </tbody>\n",
       "</table>\n",
       "</div>"
      ],
      "text/plain": [
       "   OBJID         x0         y0          PA  ell         n       I_e  \\\n",
       "0   1502  50.508234  50.505049   54.757462  0.0  2.396337  0.768990   \n",
       "1   2587  50.556978  50.598924    0.000000  0.0  2.192644  1.094024   \n",
       "2   2654  49.924076  50.161022   97.861275  0.0  0.500000  3.178116   \n",
       "3   1056  50.475000  50.575000   86.088558  0.0  4.000000  3.331370   \n",
       "4    706  49.836355  49.850612  111.178416  0.0  1.331766 -2.884030   \n",
       "\n",
       "         r_e  chiquad_dof  \n",
       "0  31.362876     0.006694  \n",
       "1  23.348711     0.007154  \n",
       "2  24.715249     0.128034  \n",
       "3  34.564254     1.692924  \n",
       "4   1.000000     0.045473  "
      ]
     },
     "execution_count": 2,
     "metadata": {},
     "output_type": "execute_result"
    }
   ],
   "source": [
    "imfit_results_ell = pd.read_csv('./lens_light_subtraction/lens_light_report_sph.csv',\n",
    "                                names=['OBJID', 'x0', 'y0', 'PA', 'ell', 'n', 'I_e', 'r_e', 'chiquad_dof'])\n",
    "imfit_results_ell.head()"
   ]
  },
  {
   "cell_type": "code",
   "execution_count": 3,
   "id": "a81f8ae3-5748-4e57-9dbc-a6eadf73740f",
   "metadata": {},
   "outputs": [
    {
     "data": {
      "application/vnd.jupyter.widget-view+json": {
       "model_id": "71f7870a55854304829302f63a407173",
       "version_major": 2,
       "version_minor": 0
      },
      "text/plain": [
       "interactive(children=(IntSlider(value=0, description='i', max=38), Output()), _dom_classes=('widget-interact',…"
      ]
     },
     "metadata": {},
     "output_type": "display_data"
    }
   ],
   "source": [
    "def update_graph(i):\n",
    "    fig, ax = plt.subplots(3, 3, figsize=(8, 10), facecolor='white')\n",
    "\n",
    "    original_image = fits.open('./lens_light_subtraction/'+str(imfit_results_ell['OBJID'][i])+'/'+str(imfit_results_ell['OBJID'][i])+'.fits')[0].data\n",
    "    galfit_ell = fits.open('./lens_light_subtraction/'+str(imfit_results_ell['OBJID'][i])+'/imgblock.fits')[3].data\n",
    "    imfit_ell = fits.open('./lens_light_subtraction/'+str(imfit_results_ell['OBJID'][i])+'/'+str(imfit_results_ell['OBJID'][i])+'_ImFit_SPHSERSIC.fits')[0].data\n",
    "    autolens_ell = fits.open('./lens_light_subtraction/'+str(imfit_results_ell['OBJID'][i])+'/'+str(imfit_results_ell['OBJID'][i])+'_AutoLens_SPHSERSIC.fits')[0].data\n",
    "\n",
    "    mask = 1-fits.open('./lens_light_subtraction/'+str(imfit_results_ell['OBJID'][i])+'/mask.fits')[0].data        \n",
    "        \n",
    "    img_list = [galfit_ell, imfit_ell, autolens_ell]\n",
    "        \n",
    "    for m in range(0, len(ax)):\n",
    "        ax[m][0].imshow(original_image)\n",
    "        ax[m][0].set_xticks([])\n",
    "        ax[m][0].set_yticks([])\n",
    "        ax[m][1].imshow(mask, alpha=0.7, cmap='gray')\n",
    "        ax[m][1].set_xticks([])\n",
    "        ax[m][1].set_yticks([])\n",
    "        ax[m][2].imshow(img_list[m])\n",
    "        ax[m][2].set_xticks([])\n",
    "        ax[m][2].set_yticks([])\n",
    "        \n",
    "    fig.tight_layout()\n",
    "    \n",
    "i = widgets.IntSlider(min=0, max=len(imfit_results_ell)-1, step=1, value=0)\n",
    "widgets.interactive(update_graph, i=i)"
   ]
  },
  {
   "cell_type": "code",
   "execution_count": null,
   "id": "fb732cb6-6cd9-4ae3-8980-3592d99c8c10",
   "metadata": {},
   "outputs": [],
   "source": []
  }
 ],
 "metadata": {
  "kernelspec": {
   "display_name": "Python 3 (ipykernel)",
   "language": "python",
   "name": "python3"
  },
  "language_info": {
   "codemirror_mode": {
    "name": "ipython",
    "version": 3
   },
   "file_extension": ".py",
   "mimetype": "text/x-python",
   "name": "python",
   "nbconvert_exporter": "python",
   "pygments_lexer": "ipython3",
   "version": "3.8.10"
  }
 },
 "nbformat": 4,
 "nbformat_minor": 5
}
