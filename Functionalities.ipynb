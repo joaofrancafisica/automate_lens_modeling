{
 "cells": [
  {
   "cell_type": "code",
   "execution_count": 18,
   "metadata": {},
   "outputs": [],
   "source": [
    "import numpy as np\n",
    "import pandas as pd\n",
    "from astropy.io import fits\n",
    "import matplotlib.pyplot as plt\n",
    "\n",
    "%matplotlib inline"
   ]
  },
  {
   "cell_type": "code",
   "execution_count": 6,
   "metadata": {},
   "outputs": [
    {
     "data": {
      "text/html": [
       "<div>\n",
       "<style scoped>\n",
       "    .dataframe tbody tr th:only-of-type {\n",
       "        vertical-align: middle;\n",
       "    }\n",
       "\n",
       "    .dataframe tbody tr th {\n",
       "        vertical-align: top;\n",
       "    }\n",
       "\n",
       "    .dataframe thead th {\n",
       "        text-align: right;\n",
       "    }\n",
       "</style>\n",
       "<table border=\"1\" class=\"dataframe\">\n",
       "  <thead>\n",
       "    <tr style=\"text-align: right;\">\n",
       "      <th></th>\n",
       "      <th>Unnamed: 0</th>\n",
       "      <th>OBJID-g</th>\n",
       "      <th>H0-g</th>\n",
       "      <th>Om0-g</th>\n",
       "      <th>exposure_time-g</th>\n",
       "      <th>numPix-g</th>\n",
       "      <th>pixel_scale-g</th>\n",
       "      <th>psf_type-g</th>\n",
       "      <th>read_noise-g</th>\n",
       "      <th>ccd_gain-g</th>\n",
       "      <th>...</th>\n",
       "      <th>PLANE_1-REDSHIFT-g</th>\n",
       "      <th>PLANE_2-REDSHIFT-g</th>\n",
       "      <th>PLANE_1-REDSHIFT-r</th>\n",
       "      <th>PLANE_2-REDSHIFT-r</th>\n",
       "      <th>PLANE_1-REDSHIFT-i</th>\n",
       "      <th>PLANE_2-REDSHIFT-i</th>\n",
       "      <th>PLANE_1-REDSHIFT-z</th>\n",
       "      <th>PLANE_2-REDSHIFT-z</th>\n",
       "      <th>PLANE_1-REDSHIFT-Y</th>\n",
       "      <th>PLANE_2-REDSHIFT-Y</th>\n",
       "    </tr>\n",
       "  </thead>\n",
       "  <tbody>\n",
       "    <tr>\n",
       "      <th>0</th>\n",
       "      <td>1501</td>\n",
       "      <td>1502</td>\n",
       "      <td>73.0</td>\n",
       "      <td>0.3</td>\n",
       "      <td>90.0</td>\n",
       "      <td>100</td>\n",
       "      <td>0.263</td>\n",
       "      <td>GAUSSIAN</td>\n",
       "      <td>7</td>\n",
       "      <td>6.083</td>\n",
       "      <td>...</td>\n",
       "      <td>0.320029</td>\n",
       "      <td>2.135518</td>\n",
       "      <td>0.320029</td>\n",
       "      <td>2.135518</td>\n",
       "      <td>0.320029</td>\n",
       "      <td>2.135518</td>\n",
       "      <td>0.320029</td>\n",
       "      <td>2.135518</td>\n",
       "      <td>0.320029</td>\n",
       "      <td>2.135518</td>\n",
       "    </tr>\n",
       "    <tr>\n",
       "      <th>1</th>\n",
       "      <td>2586</td>\n",
       "      <td>2587</td>\n",
       "      <td>73.0</td>\n",
       "      <td>0.3</td>\n",
       "      <td>90.0</td>\n",
       "      <td>100</td>\n",
       "      <td>0.263</td>\n",
       "      <td>GAUSSIAN</td>\n",
       "      <td>7</td>\n",
       "      <td>6.083</td>\n",
       "      <td>...</td>\n",
       "      <td>0.455823</td>\n",
       "      <td>3.769438</td>\n",
       "      <td>0.455823</td>\n",
       "      <td>3.769438</td>\n",
       "      <td>0.455823</td>\n",
       "      <td>3.769438</td>\n",
       "      <td>0.455823</td>\n",
       "      <td>3.769438</td>\n",
       "      <td>0.455823</td>\n",
       "      <td>3.769438</td>\n",
       "    </tr>\n",
       "    <tr>\n",
       "      <th>2</th>\n",
       "      <td>2653</td>\n",
       "      <td>2654</td>\n",
       "      <td>73.0</td>\n",
       "      <td>0.3</td>\n",
       "      <td>90.0</td>\n",
       "      <td>100</td>\n",
       "      <td>0.263</td>\n",
       "      <td>GAUSSIAN</td>\n",
       "      <td>7</td>\n",
       "      <td>6.083</td>\n",
       "      <td>...</td>\n",
       "      <td>0.768999</td>\n",
       "      <td>4.477702</td>\n",
       "      <td>0.768999</td>\n",
       "      <td>4.477702</td>\n",
       "      <td>0.768999</td>\n",
       "      <td>4.477702</td>\n",
       "      <td>0.768999</td>\n",
       "      <td>4.477702</td>\n",
       "      <td>0.768999</td>\n",
       "      <td>4.477702</td>\n",
       "    </tr>\n",
       "    <tr>\n",
       "      <th>3</th>\n",
       "      <td>1055</td>\n",
       "      <td>1056</td>\n",
       "      <td>73.0</td>\n",
       "      <td>0.3</td>\n",
       "      <td>90.0</td>\n",
       "      <td>100</td>\n",
       "      <td>0.263</td>\n",
       "      <td>GAUSSIAN</td>\n",
       "      <td>7</td>\n",
       "      <td>6.083</td>\n",
       "      <td>...</td>\n",
       "      <td>0.723560</td>\n",
       "      <td>1.718039</td>\n",
       "      <td>0.723560</td>\n",
       "      <td>1.718039</td>\n",
       "      <td>0.723560</td>\n",
       "      <td>1.718039</td>\n",
       "      <td>0.723560</td>\n",
       "      <td>1.718039</td>\n",
       "      <td>0.723560</td>\n",
       "      <td>1.718039</td>\n",
       "    </tr>\n",
       "    <tr>\n",
       "      <th>4</th>\n",
       "      <td>705</td>\n",
       "      <td>706</td>\n",
       "      <td>73.0</td>\n",
       "      <td>0.3</td>\n",
       "      <td>90.0</td>\n",
       "      <td>100</td>\n",
       "      <td>0.263</td>\n",
       "      <td>GAUSSIAN</td>\n",
       "      <td>7</td>\n",
       "      <td>6.083</td>\n",
       "      <td>...</td>\n",
       "      <td>0.389194</td>\n",
       "      <td>3.653703</td>\n",
       "      <td>0.389194</td>\n",
       "      <td>3.653703</td>\n",
       "      <td>0.389194</td>\n",
       "      <td>3.653703</td>\n",
       "      <td>0.389194</td>\n",
       "      <td>3.653703</td>\n",
       "      <td>0.389194</td>\n",
       "      <td>3.653703</td>\n",
       "    </tr>\n",
       "  </tbody>\n",
       "</table>\n",
       "<p>5 rows × 311 columns</p>\n",
       "</div>"
      ],
      "text/plain": [
       "   Unnamed: 0  OBJID-g  H0-g  Om0-g  exposure_time-g  numPix-g  pixel_scale-g  \\\n",
       "0        1501     1502  73.0    0.3             90.0       100          0.263   \n",
       "1        2586     2587  73.0    0.3             90.0       100          0.263   \n",
       "2        2653     2654  73.0    0.3             90.0       100          0.263   \n",
       "3        1055     1056  73.0    0.3             90.0       100          0.263   \n",
       "4         705      706  73.0    0.3             90.0       100          0.263   \n",
       "\n",
       "  psf_type-g  read_noise-g  ccd_gain-g  ...  PLANE_1-REDSHIFT-g  \\\n",
       "0   GAUSSIAN             7       6.083  ...            0.320029   \n",
       "1   GAUSSIAN             7       6.083  ...            0.455823   \n",
       "2   GAUSSIAN             7       6.083  ...            0.768999   \n",
       "3   GAUSSIAN             7       6.083  ...            0.723560   \n",
       "4   GAUSSIAN             7       6.083  ...            0.389194   \n",
       "\n",
       "   PLANE_2-REDSHIFT-g  PLANE_1-REDSHIFT-r  PLANE_2-REDSHIFT-r  \\\n",
       "0            2.135518            0.320029            2.135518   \n",
       "1            3.769438            0.455823            3.769438   \n",
       "2            4.477702            0.768999            4.477702   \n",
       "3            1.718039            0.723560            1.718039   \n",
       "4            3.653703            0.389194            3.653703   \n",
       "\n",
       "   PLANE_1-REDSHIFT-i PLANE_2-REDSHIFT-i PLANE_1-REDSHIFT-z  \\\n",
       "0            0.320029           2.135518           0.320029   \n",
       "1            0.455823           3.769438           0.455823   \n",
       "2            0.768999           4.477702           0.768999   \n",
       "3            0.723560           1.718039           0.723560   \n",
       "4            0.389194           3.653703           0.389194   \n",
       "\n",
       "   PLANE_2-REDSHIFT-z  PLANE_1-REDSHIFT-Y PLANE_2-REDSHIFT-Y  \n",
       "0            2.135518            0.320029           2.135518  \n",
       "1            3.769438            0.455823           3.769438  \n",
       "2            4.477702            0.768999           4.477702  \n",
       "3            1.718039            0.723560           1.718039  \n",
       "4            3.653703            0.389194           3.653703  \n",
       "\n",
       "[5 rows x 311 columns]"
      ]
     },
     "execution_count": 6,
     "metadata": {},
     "output_type": "execute_result"
    }
   ],
   "source": [
    "test_dataset = pd.read_csv('./test_dataset.csv')\n",
    "test_dataset.head()"
   ]
  },
  {
   "cell_type": "code",
   "execution_count": 8,
   "metadata": {},
   "outputs": [],
   "source": [
    "sim_path_prefix = './simulations/fits_files/i/'"
   ]
  },
  {
   "cell_type": "code",
   "execution_count": 36,
   "metadata": {},
   "outputs": [],
   "source": [
    "image_i = fits.open(sim_path_prefix+str(test_dataset['OBJID-g'][2])+'.fits')[0].data\n",
    "flatten_image_i = image_i.flatten()"
   ]
  },
  {
   "cell_type": "code",
   "execution_count": 50,
   "metadata": {},
   "outputs": [
    {
     "data": {
      "text/plain": [
       "Text(0.5, 0, 'log ADU/s')"
      ]
     },
     "execution_count": 50,
     "metadata": {},
     "output_type": "execute_result"
    },
    {
     "data": {
      "image/png": "[encoded data removed]",
      "text/plain": [
       "<Figure size 432x288 with 1 Axes>"
      ]
     },
     "metadata": {
      "needs_background": "light"
     },
     "output_type": "display_data"
    }
   ],
   "source": [
    "plt.hist(flatten_image_i, bins=50, range=(0, 2))\n",
    "plt.axvline(x=np.mean(flatten_image_i)+np.std(flatten_image_i), c='r')\n",
    "plt.ylabel('N')\n",
    "plt.xlabel('log ADU/s')"
   ]
  },
  {
   "cell_type": "code",
   "execution_count": 43,
   "metadata": {},
   "outputs": [
    {
     "data": {
      "text/plain": [
       "0.31124993854850747"
      ]
     },
     "execution_count": 43,
     "metadata": {},
     "output_type": "execute_result"
    }
   ],
   "source": [
    "np.mean(flatten_image_i)"
   ]
  },
  {
   "cell_type": "code",
   "execution_count": 52,
   "metadata": {},
   "outputs": [],
   "source": [
    "path_prefix = os.getcwd()"
   ]
  },
  {
   "cell_type": "code",
   "execution_count": 53,
   "metadata": {},
   "outputs": [
    {
     "data": {
      "text/plain": [
       "'/home/joao/projects/Update_ALF'"
      ]
     },
     "execution_count": 53,
     "metadata": {},
     "output_type": "execute_result"
    }
   ],
   "source": [
    "path_prefix"
   ]
  },
  {
   "cell_type": "code",
   "execution_count": null,
   "metadata": {},
   "outputs": [],
   "source": []
  }
 ],
 "metadata": {
  "interpreter": {
   "hash": "31f2aee4e71d21fbe5cf8b01ff0e069b9275f58929596ceb00d14d90e3e16cd6"
  },
  "kernelspec": {
   "display_name": "Python 3.8.10 64-bit",
   "language": "python",
   "name": "python3"
  },
  "language_info": {
   "codemirror_mode": {
    "name": "ipython",
    "version": 3
   },
   "file_extension": ".py",
   "mimetype": "text/x-python",
   "name": "python",
   "nbconvert_exporter": "python",
   "pygments_lexer": "ipython3",
   "version": "3.8.10"
  }
 },
 "nbformat": 4,
 "nbformat_minor": 4
}
