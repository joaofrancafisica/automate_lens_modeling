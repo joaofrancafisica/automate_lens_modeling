{
 "cells": [
  {
   "cell_type": "code",
   "execution_count": 1,
   "id": "e730e7c6-0c28-4858-8a10-636844017c41",
   "metadata": {},
   "outputs": [],
   "source": [
    "import pandas as pd\n",
    "import numpy as np\n",
    "from astropy.io import fits\n",
    "import subprocess\n",
    "import matplotlib.pyplot as plt\n",
    "import utils\n",
    "import autolens as al\n",
    "from autoconf import conf\n",
    "import shlex\n",
    "\n",
    "# setting pyautolens config and output files\n",
    "conf.instance.push(\n",
    "    new_path='./config_autolens',\n",
    "    output_path=f'./autolens_output'\n",
    ")\n",
    "# setting our simulations path\n",
    "simulations_pre_path = './simulations/fits_files/i/'\n",
    "config_sextractor_path = './config_sextractor/'\n",
    "%matplotlib inline"
   ]
  },
  {
   "cell_type": "code",
   "execution_count": 2,
   "id": "eeab5184-e5d2-46dd-8b9b-7f746bcccaf9",
   "metadata": {},
   "outputs": [
    {
     "data": {
      "text/html": [
       "<div>\n",
       "<style scoped>\n",
       "    .dataframe tbody tr th:only-of-type {\n",
       "        vertical-align: middle;\n",
       "    }\n",
       "\n",
       "    .dataframe tbody tr th {\n",
       "        vertical-align: top;\n",
       "    }\n",
       "\n",
       "    .dataframe thead th {\n",
       "        text-align: right;\n",
       "    }\n",
       "</style>\n",
       "<table border=\"1\" class=\"dataframe\">\n",
       "  <thead>\n",
       "    <tr style=\"text-align: right;\">\n",
       "      <th></th>\n",
       "      <th>Unnamed: 0</th>\n",
       "      <th>OBJID-g</th>\n",
       "      <th>H0-g</th>\n",
       "      <th>Om0-g</th>\n",
       "      <th>exposure_time-g</th>\n",
       "      <th>numPix-g</th>\n",
       "      <th>pixel_scale-g</th>\n",
       "      <th>psf_type-g</th>\n",
       "      <th>read_noise-g</th>\n",
       "      <th>ccd_gain-g</th>\n",
       "      <th>...</th>\n",
       "      <th>PLANE_1-REDSHIFT-g</th>\n",
       "      <th>PLANE_2-REDSHIFT-g</th>\n",
       "      <th>PLANE_1-REDSHIFT-r</th>\n",
       "      <th>PLANE_2-REDSHIFT-r</th>\n",
       "      <th>PLANE_1-REDSHIFT-i</th>\n",
       "      <th>PLANE_2-REDSHIFT-i</th>\n",
       "      <th>PLANE_1-REDSHIFT-z</th>\n",
       "      <th>PLANE_2-REDSHIFT-z</th>\n",
       "      <th>PLANE_1-REDSHIFT-Y</th>\n",
       "      <th>PLANE_2-REDSHIFT-Y</th>\n",
       "    </tr>\n",
       "  </thead>\n",
       "  <tbody>\n",
       "    <tr>\n",
       "      <th>0</th>\n",
       "      <td>1501</td>\n",
       "      <td>1502</td>\n",
       "      <td>73.0</td>\n",
       "      <td>0.3</td>\n",
       "      <td>90.0</td>\n",
       "      <td>100</td>\n",
       "      <td>0.263</td>\n",
       "      <td>GAUSSIAN</td>\n",
       "      <td>7</td>\n",
       "      <td>6.083</td>\n",
       "      <td>...</td>\n",
       "      <td>0.520542</td>\n",
       "      <td>1.401964</td>\n",
       "      <td>0.520542</td>\n",
       "      <td>1.401964</td>\n",
       "      <td>0.520542</td>\n",
       "      <td>1.401964</td>\n",
       "      <td>0.520542</td>\n",
       "      <td>1.401964</td>\n",
       "      <td>0.520542</td>\n",
       "      <td>1.401964</td>\n",
       "    </tr>\n",
       "    <tr>\n",
       "      <th>1</th>\n",
       "      <td>2586</td>\n",
       "      <td>2587</td>\n",
       "      <td>73.0</td>\n",
       "      <td>0.3</td>\n",
       "      <td>90.0</td>\n",
       "      <td>100</td>\n",
       "      <td>0.263</td>\n",
       "      <td>GAUSSIAN</td>\n",
       "      <td>7</td>\n",
       "      <td>6.083</td>\n",
       "      <td>...</td>\n",
       "      <td>0.432048</td>\n",
       "      <td>2.126668</td>\n",
       "      <td>0.432048</td>\n",
       "      <td>2.126668</td>\n",
       "      <td>0.432048</td>\n",
       "      <td>2.126668</td>\n",
       "      <td>0.432048</td>\n",
       "      <td>2.126668</td>\n",
       "      <td>0.432048</td>\n",
       "      <td>2.126668</td>\n",
       "    </tr>\n",
       "    <tr>\n",
       "      <th>2</th>\n",
       "      <td>2653</td>\n",
       "      <td>2654</td>\n",
       "      <td>73.0</td>\n",
       "      <td>0.3</td>\n",
       "      <td>90.0</td>\n",
       "      <td>100</td>\n",
       "      <td>0.263</td>\n",
       "      <td>GAUSSIAN</td>\n",
       "      <td>7</td>\n",
       "      <td>6.083</td>\n",
       "      <td>...</td>\n",
       "      <td>0.870553</td>\n",
       "      <td>3.289295</td>\n",
       "      <td>0.870553</td>\n",
       "      <td>3.289295</td>\n",
       "      <td>0.870553</td>\n",
       "      <td>3.289295</td>\n",
       "      <td>0.870553</td>\n",
       "      <td>3.289295</td>\n",
       "      <td>0.870553</td>\n",
       "      <td>3.289295</td>\n",
       "    </tr>\n",
       "    <tr>\n",
       "      <th>3</th>\n",
       "      <td>1055</td>\n",
       "      <td>1056</td>\n",
       "      <td>73.0</td>\n",
       "      <td>0.3</td>\n",
       "      <td>90.0</td>\n",
       "      <td>100</td>\n",
       "      <td>0.263</td>\n",
       "      <td>GAUSSIAN</td>\n",
       "      <td>7</td>\n",
       "      <td>6.083</td>\n",
       "      <td>...</td>\n",
       "      <td>0.856923</td>\n",
       "      <td>2.497602</td>\n",
       "      <td>0.856923</td>\n",
       "      <td>2.497602</td>\n",
       "      <td>0.856923</td>\n",
       "      <td>2.497602</td>\n",
       "      <td>0.856923</td>\n",
       "      <td>2.497602</td>\n",
       "      <td>0.856923</td>\n",
       "      <td>2.497602</td>\n",
       "    </tr>\n",
       "    <tr>\n",
       "      <th>4</th>\n",
       "      <td>705</td>\n",
       "      <td>706</td>\n",
       "      <td>73.0</td>\n",
       "      <td>0.3</td>\n",
       "      <td>90.0</td>\n",
       "      <td>100</td>\n",
       "      <td>0.263</td>\n",
       "      <td>GAUSSIAN</td>\n",
       "      <td>7</td>\n",
       "      <td>6.083</td>\n",
       "      <td>...</td>\n",
       "      <td>0.566559</td>\n",
       "      <td>3.057067</td>\n",
       "      <td>0.566559</td>\n",
       "      <td>3.057067</td>\n",
       "      <td>0.566559</td>\n",
       "      <td>3.057067</td>\n",
       "      <td>0.566559</td>\n",
       "      <td>3.057067</td>\n",
       "      <td>0.566559</td>\n",
       "      <td>3.057067</td>\n",
       "    </tr>\n",
       "  </tbody>\n",
       "</table>\n",
       "<p>5 rows × 311 columns</p>\n",
       "</div>"
      ],
      "text/plain": [
       "   Unnamed: 0  OBJID-g  H0-g  Om0-g  exposure_time-g  numPix-g  pixel_scale-g  \\\n",
       "0        1501     1502  73.0    0.3             90.0       100          0.263   \n",
       "1        2586     2587  73.0    0.3             90.0       100          0.263   \n",
       "2        2653     2654  73.0    0.3             90.0       100          0.263   \n",
       "3        1055     1056  73.0    0.3             90.0       100          0.263   \n",
       "4         705      706  73.0    0.3             90.0       100          0.263   \n",
       "\n",
       "  psf_type-g  read_noise-g  ccd_gain-g  ...  PLANE_1-REDSHIFT-g  \\\n",
       "0   GAUSSIAN             7       6.083  ...            0.520542   \n",
       "1   GAUSSIAN             7       6.083  ...            0.432048   \n",
       "2   GAUSSIAN             7       6.083  ...            0.870553   \n",
       "3   GAUSSIAN             7       6.083  ...            0.856923   \n",
       "4   GAUSSIAN             7       6.083  ...            0.566559   \n",
       "\n",
       "   PLANE_2-REDSHIFT-g  PLANE_1-REDSHIFT-r  PLANE_2-REDSHIFT-r  \\\n",
       "0            1.401964            0.520542            1.401964   \n",
       "1            2.126668            0.432048            2.126668   \n",
       "2            3.289295            0.870553            3.289295   \n",
       "3            2.497602            0.856923            2.497602   \n",
       "4            3.057067            0.566559            3.057067   \n",
       "\n",
       "   PLANE_1-REDSHIFT-i PLANE_2-REDSHIFT-i PLANE_1-REDSHIFT-z  \\\n",
       "0            0.520542           1.401964           0.520542   \n",
       "1            0.432048           2.126668           0.432048   \n",
       "2            0.870553           3.289295           0.870553   \n",
       "3            0.856923           2.497602           0.856923   \n",
       "4            0.566559           3.057067           0.566559   \n",
       "\n",
       "   PLANE_2-REDSHIFT-z  PLANE_1-REDSHIFT-Y PLANE_2-REDSHIFT-Y  \n",
       "0            1.401964            0.520542           1.401964  \n",
       "1            2.126668            0.432048           2.126668  \n",
       "2            3.289295            0.870553           3.289295  \n",
       "3            2.497602            0.856923           2.497602  \n",
       "4            3.057067            0.566559           3.057067  \n",
       "\n",
       "[5 rows x 311 columns]"
      ]
     },
     "execution_count": 2,
     "metadata": {},
     "output_type": "execute_result"
    }
   ],
   "source": [
    "test_dataset = pd.read_csv('./test_dataset.csv')\n",
    "test_dataset.head()"
   ]
  },
  {
   "cell_type": "code",
   "execution_count": 5,
   "id": "1f8e272c-5a34-4d90-9369-5b820e55864f",
   "metadata": {
    "scrolled": true,
    "tags": []
   },
   "outputs": [
    {
     "data": {
      "text/plain": [
       "['Unnamed: 0',\n",
       " 'OBJID-g',\n",
       " 'H0-g',\n",
       " 'Om0-g',\n",
       " 'exposure_time-g',\n",
       " 'numPix-g',\n",
       " 'pixel_scale-g',\n",
       " 'psf_type-g',\n",
       " 'read_noise-g',\n",
       " 'ccd_gain-g',\n",
       " 'seeing-g',\n",
       " 'magnitude_zero_point-g',\n",
       " 'sky_brightness-g',\n",
       " 'num_exposures-g',\n",
       " 'NUMBER_OF_NOISE_SOURCES-g',\n",
       " 'CONFIGURATION_LABEL-g',\n",
       " 'CONFIGURATION_NAME-g',\n",
       " 'NUMBER_OF_PLANES-g',\n",
       " 'PLANE_1-NUMBER_OF_OBJECTS-g',\n",
       " 'PLANE_1-OBJECT_1-NAME-g',\n",
       " 'PLANE_2-NUMBER_OF_OBJECTS-g',\n",
       " 'PLANE_2-OBJECT_1-NAME-g',\n",
       " 'PLANE_1-OBJECT_1-REDSHIFT-g',\n",
       " 'PLANE_1-OBJECT_1-NUMBER_OF_LIGHT_PROFILES-g',\n",
       " 'PLANE_1-OBJECT_1-NUMBER_OF_SHEAR_PROFILES-g',\n",
       " 'PLANE_1-OBJECT_1-NUMBER_OF_MASS_PROFILES-g',\n",
       " 'PLANE_1-OBJECT_1-HOST-g',\n",
       " 'PLANE_1-OBJECT_1-LIGHT_PROFILE_1-NAME-g',\n",
       " 'PLANE_1-OBJECT_1-LIGHT_PROFILE_1-magnitude-g',\n",
       " 'PLANE_1-OBJECT_1-LIGHT_PROFILE_1-center_x-g',\n",
       " 'PLANE_1-OBJECT_1-LIGHT_PROFILE_1-center_y-g',\n",
       " 'PLANE_1-OBJECT_1-LIGHT_PROFILE_1-R_sersic-g',\n",
       " 'PLANE_1-OBJECT_1-LIGHT_PROFILE_1-n_sersic-g',\n",
       " 'PLANE_1-OBJECT_1-LIGHT_PROFILE_1-e1-g',\n",
       " 'PLANE_1-OBJECT_1-LIGHT_PROFILE_1-e2-g',\n",
       " 'PLANE_1-OBJECT_1-MASS_PROFILE_1-NAME-g',\n",
       " 'PLANE_1-OBJECT_1-MASS_PROFILE_1-theta_E-g',\n",
       " 'PLANE_1-OBJECT_1-MASS_PROFILE_1-e1-g',\n",
       " 'PLANE_1-OBJECT_1-MASS_PROFILE_1-e2-g',\n",
       " 'PLANE_1-OBJECT_1-MASS_PROFILE_1-center_x-g',\n",
       " 'PLANE_1-OBJECT_1-MASS_PROFILE_1-center_y-g',\n",
       " 'PLANE_2-OBJECT_1-REDSHIFT-g',\n",
       " 'PLANE_2-OBJECT_1-NUMBER_OF_LIGHT_PROFILES-g',\n",
       " 'PLANE_2-OBJECT_1-NUMBER_OF_SHEAR_PROFILES-g',\n",
       " 'PLANE_2-OBJECT_1-NUMBER_OF_MASS_PROFILES-g',\n",
       " 'PLANE_2-OBJECT_1-HOST-g',\n",
       " 'PLANE_2-OBJECT_1-LIGHT_PROFILE_1-NAME-g',\n",
       " 'PLANE_2-OBJECT_1-LIGHT_PROFILE_1-magnitude-g',\n",
       " 'PLANE_2-OBJECT_1-LIGHT_PROFILE_1-center_x-g',\n",
       " 'PLANE_2-OBJECT_1-LIGHT_PROFILE_1-center_y-g',\n",
       " 'PLANE_2-OBJECT_1-LIGHT_PROFILE_1-R_sersic-g',\n",
       " 'PLANE_2-OBJECT_1-LIGHT_PROFILE_1-n_sersic-g',\n",
       " 'PLANE_2-OBJECT_1-LIGHT_PROFILE_1-e1-g',\n",
       " 'PLANE_2-OBJECT_1-LIGHT_PROFILE_1-e2-g',\n",
       " 'PLANE_2-OBJECT_1-MASS_PROFILE_1-NAME-g',\n",
       " 'PLANE_2-OBJECT_1-MASS_PROFILE_1-theta_E-g',\n",
       " 'PLANE_2-OBJECT_1-MASS_PROFILE_1-e1-g',\n",
       " 'PLANE_2-OBJECT_1-MASS_PROFILE_1-e2-g',\n",
       " 'PLANE_2-OBJECT_1-MASS_PROFILE_1-center_x-g',\n",
       " 'PLANE_2-OBJECT_1-MASS_PROFILE_1-center_y-g',\n",
       " 'BACKGROUND_IDX-g',\n",
       " 'OBJID-r',\n",
       " 'H0-r',\n",
       " 'Om0-r',\n",
       " 'exposure_time-r',\n",
       " 'numPix-r',\n",
       " 'pixel_scale-r',\n",
       " 'psf_type-r',\n",
       " 'read_noise-r',\n",
       " 'ccd_gain-r',\n",
       " 'seeing-r',\n",
       " 'magnitude_zero_point-r',\n",
       " 'sky_brightness-r',\n",
       " 'num_exposures-r',\n",
       " 'NUMBER_OF_NOISE_SOURCES-r',\n",
       " 'CONFIGURATION_LABEL-r',\n",
       " 'CONFIGURATION_NAME-r',\n",
       " 'NUMBER_OF_PLANES-r',\n",
       " 'PLANE_1-NUMBER_OF_OBJECTS-r',\n",
       " 'PLANE_1-OBJECT_1-NAME-r',\n",
       " 'PLANE_2-NUMBER_OF_OBJECTS-r',\n",
       " 'PLANE_2-OBJECT_1-NAME-r',\n",
       " 'PLANE_1-OBJECT_1-REDSHIFT-r',\n",
       " 'PLANE_1-OBJECT_1-NUMBER_OF_LIGHT_PROFILES-r',\n",
       " 'PLANE_1-OBJECT_1-NUMBER_OF_SHEAR_PROFILES-r',\n",
       " 'PLANE_1-OBJECT_1-NUMBER_OF_MASS_PROFILES-r',\n",
       " 'PLANE_1-OBJECT_1-HOST-r',\n",
       " 'PLANE_1-OBJECT_1-LIGHT_PROFILE_1-NAME-r',\n",
       " 'PLANE_1-OBJECT_1-LIGHT_PROFILE_1-magnitude-r',\n",
       " 'PLANE_1-OBJECT_1-LIGHT_PROFILE_1-center_x-r',\n",
       " 'PLANE_1-OBJECT_1-LIGHT_PROFILE_1-center_y-r',\n",
       " 'PLANE_1-OBJECT_1-LIGHT_PROFILE_1-R_sersic-r',\n",
       " 'PLANE_1-OBJECT_1-LIGHT_PROFILE_1-n_sersic-r',\n",
       " 'PLANE_1-OBJECT_1-LIGHT_PROFILE_1-e1-r',\n",
       " 'PLANE_1-OBJECT_1-LIGHT_PROFILE_1-e2-r',\n",
       " 'PLANE_1-OBJECT_1-MASS_PROFILE_1-NAME-r',\n",
       " 'PLANE_1-OBJECT_1-MASS_PROFILE_1-theta_E-r',\n",
       " 'PLANE_1-OBJECT_1-MASS_PROFILE_1-e1-r',\n",
       " 'PLANE_1-OBJECT_1-MASS_PROFILE_1-e2-r',\n",
       " 'PLANE_1-OBJECT_1-MASS_PROFILE_1-center_x-r',\n",
       " 'PLANE_1-OBJECT_1-MASS_PROFILE_1-center_y-r',\n",
       " 'PLANE_2-OBJECT_1-REDSHIFT-r',\n",
       " 'PLANE_2-OBJECT_1-NUMBER_OF_LIGHT_PROFILES-r',\n",
       " 'PLANE_2-OBJECT_1-NUMBER_OF_SHEAR_PROFILES-r',\n",
       " 'PLANE_2-OBJECT_1-NUMBER_OF_MASS_PROFILES-r',\n",
       " 'PLANE_2-OBJECT_1-HOST-r',\n",
       " 'PLANE_2-OBJECT_1-LIGHT_PROFILE_1-NAME-r',\n",
       " 'PLANE_2-OBJECT_1-LIGHT_PROFILE_1-magnitude-r',\n",
       " 'PLANE_2-OBJECT_1-LIGHT_PROFILE_1-center_x-r',\n",
       " 'PLANE_2-OBJECT_1-LIGHT_PROFILE_1-center_y-r',\n",
       " 'PLANE_2-OBJECT_1-LIGHT_PROFILE_1-R_sersic-r',\n",
       " 'PLANE_2-OBJECT_1-LIGHT_PROFILE_1-n_sersic-r',\n",
       " 'PLANE_2-OBJECT_1-LIGHT_PROFILE_1-e1-r',\n",
       " 'PLANE_2-OBJECT_1-LIGHT_PROFILE_1-e2-r',\n",
       " 'PLANE_2-OBJECT_1-MASS_PROFILE_1-NAME-r',\n",
       " 'PLANE_2-OBJECT_1-MASS_PROFILE_1-theta_E-r',\n",
       " 'PLANE_2-OBJECT_1-MASS_PROFILE_1-e1-r',\n",
       " 'PLANE_2-OBJECT_1-MASS_PROFILE_1-e2-r',\n",
       " 'PLANE_2-OBJECT_1-MASS_PROFILE_1-center_x-r',\n",
       " 'PLANE_2-OBJECT_1-MASS_PROFILE_1-center_y-r',\n",
       " 'BACKGROUND_IDX-r',\n",
       " 'OBJID-i',\n",
       " 'H0-i',\n",
       " 'Om0-i',\n",
       " 'exposure_time-i',\n",
       " 'numPix-i',\n",
       " 'pixel_scale-i',\n",
       " 'psf_type-i',\n",
       " 'read_noise-i',\n",
       " 'ccd_gain-i',\n",
       " 'seeing-i',\n",
       " 'magnitude_zero_point-i',\n",
       " 'sky_brightness-i',\n",
       " 'num_exposures-i',\n",
       " 'NUMBER_OF_NOISE_SOURCES-i',\n",
       " 'CONFIGURATION_LABEL-i',\n",
       " 'CONFIGURATION_NAME-i',\n",
       " 'NUMBER_OF_PLANES-i',\n",
       " 'PLANE_1-NUMBER_OF_OBJECTS-i',\n",
       " 'PLANE_1-OBJECT_1-NAME-i',\n",
       " 'PLANE_2-NUMBER_OF_OBJECTS-i',\n",
       " 'PLANE_2-OBJECT_1-NAME-i',\n",
       " 'PLANE_1-OBJECT_1-REDSHIFT-i',\n",
       " 'PLANE_1-OBJECT_1-NUMBER_OF_LIGHT_PROFILES-i',\n",
       " 'PLANE_1-OBJECT_1-NUMBER_OF_SHEAR_PROFILES-i',\n",
       " 'PLANE_1-OBJECT_1-NUMBER_OF_MASS_PROFILES-i',\n",
       " 'PLANE_1-OBJECT_1-HOST-i',\n",
       " 'PLANE_1-OBJECT_1-LIGHT_PROFILE_1-NAME-i',\n",
       " 'PLANE_1-OBJECT_1-LIGHT_PROFILE_1-magnitude-i',\n",
       " 'PLANE_1-OBJECT_1-LIGHT_PROFILE_1-center_x-i',\n",
       " 'PLANE_1-OBJECT_1-LIGHT_PROFILE_1-center_y-i',\n",
       " 'PLANE_1-OBJECT_1-LIGHT_PROFILE_1-R_sersic-i',\n",
       " 'PLANE_1-OBJECT_1-LIGHT_PROFILE_1-n_sersic-i',\n",
       " 'PLANE_1-OBJECT_1-LIGHT_PROFILE_1-e1-i',\n",
       " 'PLANE_1-OBJECT_1-LIGHT_PROFILE_1-e2-i',\n",
       " 'PLANE_1-OBJECT_1-MASS_PROFILE_1-NAME-i',\n",
       " 'PLANE_1-OBJECT_1-MASS_PROFILE_1-theta_E-i',\n",
       " 'PLANE_1-OBJECT_1-MASS_PROFILE_1-e1-i',\n",
       " 'PLANE_1-OBJECT_1-MASS_PROFILE_1-e2-i',\n",
       " 'PLANE_1-OBJECT_1-MASS_PROFILE_1-center_x-i',\n",
       " 'PLANE_1-OBJECT_1-MASS_PROFILE_1-center_y-i',\n",
       " 'PLANE_2-OBJECT_1-REDSHIFT-i',\n",
       " 'PLANE_2-OBJECT_1-NUMBER_OF_LIGHT_PROFILES-i',\n",
       " 'PLANE_2-OBJECT_1-NUMBER_OF_SHEAR_PROFILES-i',\n",
       " 'PLANE_2-OBJECT_1-NUMBER_OF_MASS_PROFILES-i',\n",
       " 'PLANE_2-OBJECT_1-HOST-i',\n",
       " 'PLANE_2-OBJECT_1-LIGHT_PROFILE_1-NAME-i',\n",
       " 'PLANE_2-OBJECT_1-LIGHT_PROFILE_1-magnitude-i',\n",
       " 'PLANE_2-OBJECT_1-LIGHT_PROFILE_1-center_x-i',\n",
       " 'PLANE_2-OBJECT_1-LIGHT_PROFILE_1-center_y-i',\n",
       " 'PLANE_2-OBJECT_1-LIGHT_PROFILE_1-R_sersic-i',\n",
       " 'PLANE_2-OBJECT_1-LIGHT_PROFILE_1-n_sersic-i',\n",
       " 'PLANE_2-OBJECT_1-LIGHT_PROFILE_1-e1-i',\n",
       " 'PLANE_2-OBJECT_1-LIGHT_PROFILE_1-e2-i',\n",
       " 'PLANE_2-OBJECT_1-MASS_PROFILE_1-NAME-i',\n",
       " 'PLANE_2-OBJECT_1-MASS_PROFILE_1-theta_E-i',\n",
       " 'PLANE_2-OBJECT_1-MASS_PROFILE_1-e1-i',\n",
       " 'PLANE_2-OBJECT_1-MASS_PROFILE_1-e2-i',\n",
       " 'PLANE_2-OBJECT_1-MASS_PROFILE_1-center_x-i',\n",
       " 'PLANE_2-OBJECT_1-MASS_PROFILE_1-center_y-i',\n",
       " 'BACKGROUND_IDX-i',\n",
       " 'OBJID-z',\n",
       " 'H0-z',\n",
       " 'Om0-z',\n",
       " 'exposure_time-z',\n",
       " 'numPix-z',\n",
       " 'pixel_scale-z',\n",
       " 'psf_type-z',\n",
       " 'read_noise-z',\n",
       " 'ccd_gain-z',\n",
       " 'seeing-z',\n",
       " 'magnitude_zero_point-z',\n",
       " 'sky_brightness-z',\n",
       " 'num_exposures-z',\n",
       " 'NUMBER_OF_NOISE_SOURCES-z',\n",
       " 'CONFIGURATION_LABEL-z',\n",
       " 'CONFIGURATION_NAME-z',\n",
       " 'NUMBER_OF_PLANES-z',\n",
       " 'PLANE_1-NUMBER_OF_OBJECTS-z',\n",
       " 'PLANE_1-OBJECT_1-NAME-z',\n",
       " 'PLANE_2-NUMBER_OF_OBJECTS-z',\n",
       " 'PLANE_2-OBJECT_1-NAME-z',\n",
       " 'PLANE_1-OBJECT_1-REDSHIFT-z',\n",
       " 'PLANE_1-OBJECT_1-NUMBER_OF_LIGHT_PROFILES-z',\n",
       " 'PLANE_1-OBJECT_1-NUMBER_OF_SHEAR_PROFILES-z',\n",
       " 'PLANE_1-OBJECT_1-NUMBER_OF_MASS_PROFILES-z',\n",
       " 'PLANE_1-OBJECT_1-HOST-z',\n",
       " 'PLANE_1-OBJECT_1-LIGHT_PROFILE_1-NAME-z',\n",
       " 'PLANE_1-OBJECT_1-LIGHT_PROFILE_1-magnitude-z',\n",
       " 'PLANE_1-OBJECT_1-LIGHT_PROFILE_1-center_x-z',\n",
       " 'PLANE_1-OBJECT_1-LIGHT_PROFILE_1-center_y-z',\n",
       " 'PLANE_1-OBJECT_1-LIGHT_PROFILE_1-R_sersic-z',\n",
       " 'PLANE_1-OBJECT_1-LIGHT_PROFILE_1-n_sersic-z',\n",
       " 'PLANE_1-OBJECT_1-LIGHT_PROFILE_1-e1-z',\n",
       " 'PLANE_1-OBJECT_1-LIGHT_PROFILE_1-e2-z',\n",
       " 'PLANE_1-OBJECT_1-MASS_PROFILE_1-NAME-z',\n",
       " 'PLANE_1-OBJECT_1-MASS_PROFILE_1-theta_E-z',\n",
       " 'PLANE_1-OBJECT_1-MASS_PROFILE_1-e1-z',\n",
       " 'PLANE_1-OBJECT_1-MASS_PROFILE_1-e2-z',\n",
       " 'PLANE_1-OBJECT_1-MASS_PROFILE_1-center_x-z',\n",
       " 'PLANE_1-OBJECT_1-MASS_PROFILE_1-center_y-z',\n",
       " 'PLANE_2-OBJECT_1-REDSHIFT-z',\n",
       " 'PLANE_2-OBJECT_1-NUMBER_OF_LIGHT_PROFILES-z',\n",
       " 'PLANE_2-OBJECT_1-NUMBER_OF_SHEAR_PROFILES-z',\n",
       " 'PLANE_2-OBJECT_1-NUMBER_OF_MASS_PROFILES-z',\n",
       " 'PLANE_2-OBJECT_1-HOST-z',\n",
       " 'PLANE_2-OBJECT_1-LIGHT_PROFILE_1-NAME-z',\n",
       " 'PLANE_2-OBJECT_1-LIGHT_PROFILE_1-magnitude-z',\n",
       " 'PLANE_2-OBJECT_1-LIGHT_PROFILE_1-center_x-z',\n",
       " 'PLANE_2-OBJECT_1-LIGHT_PROFILE_1-center_y-z',\n",
       " 'PLANE_2-OBJECT_1-LIGHT_PROFILE_1-R_sersic-z',\n",
       " 'PLANE_2-OBJECT_1-LIGHT_PROFILE_1-n_sersic-z',\n",
       " 'PLANE_2-OBJECT_1-LIGHT_PROFILE_1-e1-z',\n",
       " 'PLANE_2-OBJECT_1-LIGHT_PROFILE_1-e2-z',\n",
       " 'PLANE_2-OBJECT_1-MASS_PROFILE_1-NAME-z',\n",
       " 'PLANE_2-OBJECT_1-MASS_PROFILE_1-theta_E-z',\n",
       " 'PLANE_2-OBJECT_1-MASS_PROFILE_1-e1-z',\n",
       " 'PLANE_2-OBJECT_1-MASS_PROFILE_1-e2-z',\n",
       " 'PLANE_2-OBJECT_1-MASS_PROFILE_1-center_x-z',\n",
       " 'PLANE_2-OBJECT_1-MASS_PROFILE_1-center_y-z',\n",
       " 'BACKGROUND_IDX-z',\n",
       " 'OBJID-Y',\n",
       " 'H0-Y',\n",
       " 'Om0-Y',\n",
       " 'exposure_time-Y',\n",
       " 'numPix-Y',\n",
       " 'pixel_scale-Y',\n",
       " 'psf_type-Y',\n",
       " 'read_noise-Y',\n",
       " 'ccd_gain-Y',\n",
       " 'seeing-Y',\n",
       " 'magnitude_zero_point-Y',\n",
       " 'sky_brightness-Y',\n",
       " 'num_exposures-Y',\n",
       " 'NUMBER_OF_NOISE_SOURCES-Y',\n",
       " 'CONFIGURATION_LABEL-Y',\n",
       " 'CONFIGURATION_NAME-Y',\n",
       " 'NUMBER_OF_PLANES-Y',\n",
       " 'PLANE_1-NUMBER_OF_OBJECTS-Y',\n",
       " 'PLANE_1-OBJECT_1-NAME-Y',\n",
       " 'PLANE_2-NUMBER_OF_OBJECTS-Y',\n",
       " 'PLANE_2-OBJECT_1-NAME-Y',\n",
       " 'PLANE_1-OBJECT_1-REDSHIFT-Y',\n",
       " 'PLANE_1-OBJECT_1-NUMBER_OF_LIGHT_PROFILES-Y',\n",
       " 'PLANE_1-OBJECT_1-NUMBER_OF_SHEAR_PROFILES-Y',\n",
       " 'PLANE_1-OBJECT_1-NUMBER_OF_MASS_PROFILES-Y',\n",
       " 'PLANE_1-OBJECT_1-HOST-Y',\n",
       " 'PLANE_1-OBJECT_1-LIGHT_PROFILE_1-NAME-Y',\n",
       " 'PLANE_1-OBJECT_1-LIGHT_PROFILE_1-magnitude-Y',\n",
       " 'PLANE_1-OBJECT_1-LIGHT_PROFILE_1-center_x-Y',\n",
       " 'PLANE_1-OBJECT_1-LIGHT_PROFILE_1-center_y-Y',\n",
       " 'PLANE_1-OBJECT_1-LIGHT_PROFILE_1-R_sersic-Y',\n",
       " 'PLANE_1-OBJECT_1-LIGHT_PROFILE_1-n_sersic-Y',\n",
       " 'PLANE_1-OBJECT_1-LIGHT_PROFILE_1-e1-Y',\n",
       " 'PLANE_1-OBJECT_1-LIGHT_PROFILE_1-e2-Y',\n",
       " 'PLANE_1-OBJECT_1-MASS_PROFILE_1-NAME-Y',\n",
       " 'PLANE_1-OBJECT_1-MASS_PROFILE_1-theta_E-Y',\n",
       " 'PLANE_1-OBJECT_1-MASS_PROFILE_1-e1-Y',\n",
       " 'PLANE_1-OBJECT_1-MASS_PROFILE_1-e2-Y',\n",
       " 'PLANE_1-OBJECT_1-MASS_PROFILE_1-center_x-Y',\n",
       " 'PLANE_1-OBJECT_1-MASS_PROFILE_1-center_y-Y',\n",
       " 'PLANE_2-OBJECT_1-REDSHIFT-Y',\n",
       " 'PLANE_2-OBJECT_1-NUMBER_OF_LIGHT_PROFILES-Y',\n",
       " 'PLANE_2-OBJECT_1-NUMBER_OF_SHEAR_PROFILES-Y',\n",
       " 'PLANE_2-OBJECT_1-NUMBER_OF_MASS_PROFILES-Y',\n",
       " 'PLANE_2-OBJECT_1-HOST-Y',\n",
       " 'PLANE_2-OBJECT_1-LIGHT_PROFILE_1-NAME-Y',\n",
       " 'PLANE_2-OBJECT_1-LIGHT_PROFILE_1-magnitude-Y',\n",
       " 'PLANE_2-OBJECT_1-LIGHT_PROFILE_1-center_x-Y',\n",
       " 'PLANE_2-OBJECT_1-LIGHT_PROFILE_1-center_y-Y',\n",
       " 'PLANE_2-OBJECT_1-LIGHT_PROFILE_1-R_sersic-Y',\n",
       " 'PLANE_2-OBJECT_1-LIGHT_PROFILE_1-n_sersic-Y',\n",
       " 'PLANE_2-OBJECT_1-LIGHT_PROFILE_1-e1-Y',\n",
       " 'PLANE_2-OBJECT_1-LIGHT_PROFILE_1-e2-Y',\n",
       " 'PLANE_2-OBJECT_1-MASS_PROFILE_1-NAME-Y',\n",
       " 'PLANE_2-OBJECT_1-MASS_PROFILE_1-theta_E-Y',\n",
       " 'PLANE_2-OBJECT_1-MASS_PROFILE_1-e1-Y',\n",
       " 'PLANE_2-OBJECT_1-MASS_PROFILE_1-e2-Y',\n",
       " 'PLANE_2-OBJECT_1-MASS_PROFILE_1-center_x-Y',\n",
       " 'PLANE_2-OBJECT_1-MASS_PROFILE_1-center_y-Y',\n",
       " 'BACKGROUND_IDX-Y',\n",
       " 'PLANE_1-REDSHIFT-g',\n",
       " 'PLANE_2-REDSHIFT-g',\n",
       " 'PLANE_1-REDSHIFT-r',\n",
       " 'PLANE_2-REDSHIFT-r',\n",
       " 'PLANE_1-REDSHIFT-i',\n",
       " 'PLANE_2-REDSHIFT-i',\n",
       " 'PLANE_1-REDSHIFT-z',\n",
       " 'PLANE_2-REDSHIFT-z',\n",
       " 'PLANE_1-REDSHIFT-Y',\n",
       " 'PLANE_2-REDSHIFT-Y']"
      ]
     },
     "execution_count": 5,
     "metadata": {},
     "output_type": "execute_result"
    }
   ],
   "source": [
    "list(test_dataset.columns)"
   ]
  },
  {
   "cell_type": "code",
   "execution_count": 3,
   "id": "ce9f25d6-02bb-478d-9d36-e54275232ee3",
   "metadata": {},
   "outputs": [],
   "source": [
    "system = 4"
   ]
  },
  {
   "cell_type": "code",
   "execution_count": 4,
   "id": "6b5ed4b4-cf8e-44cd-961f-222cbc36f653",
   "metadata": {},
   "outputs": [],
   "source": [
    "objid = int(test_dataset['OBJID-g'][system])\n",
    "pixel_scale = float(test_dataset['pixel_scale-g'][system])\n",
    "seeing = float(test_dataset['seeing-i'][system])\n",
    "sky_rms = float(test_dataset['sky_brightness-i'][system])\n",
    "ccd_gain = float(test_dataset['ccd_gain-i'][system])\n",
    "mag_zero_point = float(test_dataset['magnitude_zero_point-i'][system])\n",
    "num_pix = int(test_dataset['numPix-i'][system])\n",
    "shape = (num_pix, num_pix)\n",
    "mag_gamma = 10**(-0.4*(mag_zero_point-sky_rms))\n",
    "\n",
    "expo_time = float(test_dataset['exposure_time-i'][system])\n",
    "#zl = float(test_dataset['PLANE_1-REDSHIFT-g'][system])\n",
    "#zs = float(test_dataset['PLANE_2-REDSHIFT-g'][system])\n",
    "#read_noise = float(test_dataset['read_noise-i'][system])"
   ]
  },
  {
   "cell_type": "code",
   "execution_count": 5,
   "id": "2f1fbe01-5599-4ca3-9227-9adfe2c01689",
   "metadata": {},
   "outputs": [
    {
     "data": {
      "text/plain": [
       "6.083"
      ]
     },
     "execution_count": 5,
     "metadata": {},
     "output_type": "execute_result"
    }
   ],
   "source": [
    "ccd_gain"
   ]
  },
  {
   "cell_type": "code",
   "execution_count": 8,
   "id": "050831fc-1e1d-41f3-ac86-69a4d58096f4",
   "metadata": {},
   "outputs": [
    {
     "data": {
      "text/plain": [
       "(706, 0.943, 6.083, 26.75, 0.263, 0.0010675789450994952, 19.321, 90.0)"
      ]
     },
     "execution_count": 8,
     "metadata": {},
     "output_type": "execute_result"
    }
   ],
   "source": [
    "objid, seeing, ccd_gain, mag_zero_point, pixel_scale, mag_gamma, sky_rms, expo_time"
   ]
  },
  {
   "cell_type": "code",
   "execution_count": 6,
   "id": "ce8b9456-462b-4672-aaa7-759eac9bc1bc",
   "metadata": {},
   "outputs": [],
   "source": [
    "image_i=fits.open(simulations_pre_path+str(objid-1)+'.fits')[0].data"
   ]
  },
  {
   "cell_type": "code",
   "execution_count": 7,
   "id": "e93852b1-20d4-444c-9cb8-39f13c7f10a3",
   "metadata": {},
   "outputs": [
    {
     "data": {
      "text/plain": [
       "<matplotlib.image.AxesImage at 0x7f89f0341460>"
      ]
     },
     "execution_count": 7,
     "metadata": {},
     "output_type": "execute_result"
    },
    {
     "data": {
      "image/png": "[encoded data removed]",
      "text/plain": [
       "<Figure size 432x288 with 1 Axes>"
      ]
     },
     "metadata": {
      "needs_background": "light"
     },
     "output_type": "display_data"
    }
   ],
   "source": [
    "plt.imshow(image_i, origin='lower')"
   ]
  },
  {
   "cell_type": "code",
   "execution_count": 8,
   "id": "14503bed-436f-4db6-8565-b10b4f035597",
   "metadata": {},
   "outputs": [],
   "source": [
    "teste = utils.lens_light_test(image_i)\n",
    "has_lens_light, f, x, y = teste.test()"
   ]
  },
  {
   "cell_type": "code",
   "execution_count": 9,
   "id": "1a7507df-bf29-48c9-8b73-1d3d983e32c4",
   "metadata": {},
   "outputs": [
    {
     "data": {
      "text/plain": [
       "True"
      ]
     },
     "execution_count": 9,
     "metadata": {},
     "output_type": "execute_result"
    }
   ],
   "source": [
    "has_lens_light"
   ]
  },
  {
   "cell_type": "code",
   "execution_count": 10,
   "id": "17cc309f-f9a5-4f5a-b6bc-b1529a2593e6",
   "metadata": {},
   "outputs": [],
   "source": [
    "finder = utils.find_radius(pre_set_sigma=3, image_array=image_i)\n",
    "norm, center, mask_radius= finder.get_radius() # gaussian normalization, center position (1-d) and radius (sigma)\n",
    "\n",
    "radius_value = mask_radius*float(pixel_scale)*1.5\n",
    "if radius_value > 3.:\n",
    "    radius_value = 3.\n",
    "\n",
    "mask = al.Mask2D.circular(shape_native=shape, pixel_scales=pixel_scale, radius=radius_value)"
   ]
  },
  {
   "cell_type": "code",
   "execution_count": 11,
   "id": "fc402ef0-6142-4a6b-90c1-9e32ce8b9c2b",
   "metadata": {},
   "outputs": [
    {
     "data": {
      "text/plain": [
       "<matplotlib.image.AxesImage at 0x7f89ef86a910>"
      ]
     },
     "execution_count": 11,
     "metadata": {},
     "output_type": "execute_result"
    },
    {
     "data": {
      "image/png": "[encoded data removed]",
      "text/plain": [
       "<Figure size 432x288 with 1 Axes>"
      ]
     },
     "metadata": {
      "needs_background": "light"
     },
     "output_type": "display_data"
    }
   ],
   "source": [
    "plt.imshow(mask, origin='lower')"
   ]
  },
  {
   "cell_type": "code",
   "execution_count": 12,
   "id": "a45b28b2-6520-478d-890d-fdcaa4064860",
   "metadata": {},
   "outputs": [],
   "source": [
    "fits_path = simulations_pre_path+str(objid-1)+'.fits'"
   ]
  },
  {
   "cell_type": "code",
   "execution_count": 13,
   "id": "6e33d181-36a6-4813-9234-3a493d308c76",
   "metadata": {},
   "outputs": [],
   "source": [
    "if has_lens_light:\n",
    "    subprocess.call(['mv', fits_path, config_sextractor_path])"
   ]
  },
  {
   "cell_type": "code",
   "execution_count": 14,
   "id": "ee045256-539a-4ad6-a4bd-071e2a7296ee",
   "metadata": {},
   "outputs": [],
   "source": [
    "sextractor_cmd = 'sex ' + str(str(objid-1)+ '.fits -c ./default.sex -DETECT_THRESH ' + str(np.var(image_i)) + ' -ANALYSIS_THRESH ' + str(np.var(image_i)) + ' -MAG_ZEROPOINT ' + str(mag_zero_point) + ' -MAG_GAMMA ' + str(mag_gamma) + ' -GAIN ' + str(ccd_gain) + ' -PIXEL_SCALE ' + str(pixel_scale) + ' -SEEING_FWHM ' + str(seeing))"
   ]
  },
  {
   "cell_type": "code",
   "execution_count": 15,
   "id": "2989c0d9-00c4-4520-a778-093082a2f3d3",
   "metadata": {
    "scrolled": true,
    "tags": []
   },
   "outputs": [
    {
     "name": "stderr",
     "output_type": "stream",
     "text": [
      "\u001b[1M> \n",
      "\u001b[1A----- SExtractor 2.19.5 started on 2022-04-28 at 15:44:34 with 1 thread\n",
      "\n",
      "\u001b[1M> Setting catalog parameters\n",
      "\u001b[1A\u001b[1M> Reading detection filter\n",
      "\u001b[1A\u001b[1M> Initializing Neural Network\n",
      "\u001b[1A\u001b[1M> Reading Neural Network Weights\n",
      "\u001b[1A\u001b[1M> Initializing check-image(s)\n",
      "\u001b[1A\u001b[1M> Initializing catalog\n",
      "\u001b[1A\u001b[1M> Looking for 2586.fits\n",
      "\u001b[1A----- Measuring from: 2586.fits\n",
      "      \"Unnamed\" / no ext. header / 100x100 / 64 bits (floats)\n",
      "Detection+Measurement image: \u001b[1M> Setting up background maps\n",
      "\u001b[1A\u001b[1M> Filtering background map(s)\n",
      "\u001b[1A\u001b[1M> Computing background d-map\n",
      "\u001b[1A\u001b[1M> Computing background-noise d-map\n",
      "\u001b[1A(M+D) Background: 0.30973    RMS: 0.290743   / Threshold: 10.4398    \n",
      "\u001b[1M> Scanning image\n",
      "\u001b[1A"
     ]
    },
    {
     "data": {
      "text/plain": [
       "<subprocess.Popen at 0x7f89ef816190>"
      ]
     },
     "execution_count": 15,
     "metadata": {},
     "output_type": "execute_result"
    },
    {
     "name": "stderr",
     "output_type": "stream",
     "text": [
      "\u001b[1M> Line:   25  Objects:        0 detected /        0 sextracted\n",
      "\u001b[1A\u001b[1M> Line:   50  Objects:        0 detected /        0 sextracted\n",
      "\u001b[1A\u001b[1M> Line:   75  Objects:        1 detected /        0 sextracted\n",
      "\u001b[1A\u001b[1M> Line:  100  Objects:        1 detected /        0 sextracted\n",
      "\u001b[1A\u001b[1M> Line:  100  Objects:        1 detected /        1 sextracted\n",
      "\u001b[1A      Objects: detected 1        / sextracted 1               \n",
      "\n",
      "\u001b[1M> Closing files\n",
      "\u001b[1A\u001b[1M> \n",
      "\u001b[1A> All done (in 0.0 s: 23326.3 lines/s , 233.3 detections/s)\n"
     ]
    }
   ],
   "source": [
    "subprocess.Popen(shlex.split(sextractor_cmd), cwd=\"/home/joao/Update_ALF/config_sextractor/\")"
   ]
  },
  {
   "cell_type": "code",
   "execution_count": 16,
   "id": "7bd56880-4a11-4beb-9959-a91dd193e35d",
   "metadata": {},
   "outputs": [],
   "source": [
    "check=fits.open('./config_sextractor/check.fits')[0].data"
   ]
  },
  {
   "cell_type": "code",
   "execution_count": 17,
   "id": "36d9becb-870b-436d-87aa-33450ffd7df4",
   "metadata": {},
   "outputs": [],
   "source": [
    "for i in range(0, len(check)):\n",
    "    for j in range(0, len(check[i])):\n",
    "        if check[i][j] > 0:\n",
    "            check[i][j] = 1"
   ]
  },
  {
   "cell_type": "code",
   "execution_count": 18,
   "id": "d17dbb5f-d0d4-4627-8664-0d8ae606bed1",
   "metadata": {},
   "outputs": [
    {
     "data": {
      "text/plain": [
       "0"
      ]
     },
     "execution_count": 18,
     "metadata": {},
     "output_type": "execute_result"
    }
   ],
   "source": [
    "subprocess.call(['mv', config_sextractor_path+str(str(objid-1))+'.fits', simulations_pre_path])"
   ]
  },
  {
   "cell_type": "code",
   "execution_count": 19,
   "id": "bb060437-2001-4277-ad1d-e8c23ccc16a7",
   "metadata": {},
   "outputs": [
    {
     "data": {
      "text/plain": [
       "<matplotlib.image.AxesImage at 0x7f89f1fa3760>"
      ]
     },
     "execution_count": 19,
     "metadata": {},
     "output_type": "execute_result"
    },
    {
     "data": {
      "image/png": "[encoded data removed]",
      "text/plain": [
       "<Figure size 432x288 with 1 Axes>"
      ]
     },
     "metadata": {
      "needs_background": "light"
     },
     "output_type": "display_data"
    }
   ],
   "source": [
    "plt.imshow(check+mask, origin='lower')"
   ]
  },
  {
   "cell_type": "code",
   "execution_count": 20,
   "id": "147cd824-2595-43a9-ab35-f68e9af3cf7b",
   "metadata": {},
   "outputs": [],
   "source": [
    "import os"
   ]
  },
  {
   "cell_type": "code",
   "execution_count": 27,
   "id": "987a84ca-9f26-4b9e-9767-31a761927499",
   "metadata": {},
   "outputs": [],
   "source": [
    "os.makedirs('./results/1502', exist_ok=True)"
   ]
  },
  {
   "cell_type": "code",
   "execution_count": null,
   "id": "5b00cd23-9064-406b-b811-135a4cd1953e",
   "metadata": {},
   "outputs": [],
   "source": []
  }
 ],
 "metadata": {
  "kernelspec": {
   "display_name": "Python 3 (ipykernel)",
   "language": "python",
   "name": "python3"
  },
  "language_info": {
   "codemirror_mode": {
    "name": "ipython",
    "version": 3
   },
   "file_extension": ".py",
   "mimetype": "text/x-python",
   "name": "python",
   "nbconvert_exporter": "python",
   "pygments_lexer": "ipython3",
   "version": "3.8.10"
  }
 },
 "nbformat": 4,
 "nbformat_minor": 5
}
